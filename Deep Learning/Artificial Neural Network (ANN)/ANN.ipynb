{
 "cells": [
  {
   "cell_type": "code",
   "execution_count": 39,
   "metadata": {},
   "outputs": [],
   "source": [
    "import numpy as np, matplotlib.pyplot as plt, pandas as pd"
   ]
  },
  {
   "cell_type": "code",
   "execution_count": 40,
   "metadata": {},
   "outputs": [
    {
     "data": {
      "text/html": [
       "<div>\n",
       "<style scoped>\n",
       "    .dataframe tbody tr th:only-of-type {\n",
       "        vertical-align: middle;\n",
       "    }\n",
       "\n",
       "    .dataframe tbody tr th {\n",
       "        vertical-align: top;\n",
       "    }\n",
       "\n",
       "    .dataframe thead th {\n",
       "        text-align: right;\n",
       "    }\n",
       "</style>\n",
       "<table border=\"1\" class=\"dataframe\">\n",
       "  <thead>\n",
       "    <tr style=\"text-align: right;\">\n",
       "      <th></th>\n",
       "      <th>RowNumber</th>\n",
       "      <th>CustomerId</th>\n",
       "      <th>Surname</th>\n",
       "      <th>CreditScore</th>\n",
       "      <th>Geography</th>\n",
       "      <th>Gender</th>\n",
       "      <th>Age</th>\n",
       "      <th>Tenure</th>\n",
       "      <th>Balance</th>\n",
       "      <th>NumOfProducts</th>\n",
       "      <th>HasCrCard</th>\n",
       "      <th>IsActiveMember</th>\n",
       "      <th>EstimatedSalary</th>\n",
       "      <th>Exited</th>\n",
       "    </tr>\n",
       "  </thead>\n",
       "  <tbody>\n",
       "    <tr>\n",
       "      <th>0</th>\n",
       "      <td>1</td>\n",
       "      <td>15634602</td>\n",
       "      <td>Hargrave</td>\n",
       "      <td>619</td>\n",
       "      <td>France</td>\n",
       "      <td>Female</td>\n",
       "      <td>42</td>\n",
       "      <td>2</td>\n",
       "      <td>0.00</td>\n",
       "      <td>1</td>\n",
       "      <td>1</td>\n",
       "      <td>1</td>\n",
       "      <td>101348.88</td>\n",
       "      <td>1</td>\n",
       "    </tr>\n",
       "    <tr>\n",
       "      <th>1</th>\n",
       "      <td>2</td>\n",
       "      <td>15647311</td>\n",
       "      <td>Hill</td>\n",
       "      <td>608</td>\n",
       "      <td>Spain</td>\n",
       "      <td>Female</td>\n",
       "      <td>41</td>\n",
       "      <td>1</td>\n",
       "      <td>83807.86</td>\n",
       "      <td>1</td>\n",
       "      <td>0</td>\n",
       "      <td>1</td>\n",
       "      <td>112542.58</td>\n",
       "      <td>0</td>\n",
       "    </tr>\n",
       "    <tr>\n",
       "      <th>2</th>\n",
       "      <td>3</td>\n",
       "      <td>15619304</td>\n",
       "      <td>Onio</td>\n",
       "      <td>502</td>\n",
       "      <td>France</td>\n",
       "      <td>Female</td>\n",
       "      <td>42</td>\n",
       "      <td>8</td>\n",
       "      <td>159660.80</td>\n",
       "      <td>3</td>\n",
       "      <td>1</td>\n",
       "      <td>0</td>\n",
       "      <td>113931.57</td>\n",
       "      <td>1</td>\n",
       "    </tr>\n",
       "    <tr>\n",
       "      <th>3</th>\n",
       "      <td>4</td>\n",
       "      <td>15701354</td>\n",
       "      <td>Boni</td>\n",
       "      <td>699</td>\n",
       "      <td>France</td>\n",
       "      <td>Female</td>\n",
       "      <td>39</td>\n",
       "      <td>1</td>\n",
       "      <td>0.00</td>\n",
       "      <td>2</td>\n",
       "      <td>0</td>\n",
       "      <td>0</td>\n",
       "      <td>93826.63</td>\n",
       "      <td>0</td>\n",
       "    </tr>\n",
       "    <tr>\n",
       "      <th>4</th>\n",
       "      <td>5</td>\n",
       "      <td>15737888</td>\n",
       "      <td>Mitchell</td>\n",
       "      <td>850</td>\n",
       "      <td>Spain</td>\n",
       "      <td>Female</td>\n",
       "      <td>43</td>\n",
       "      <td>2</td>\n",
       "      <td>125510.82</td>\n",
       "      <td>1</td>\n",
       "      <td>1</td>\n",
       "      <td>1</td>\n",
       "      <td>79084.10</td>\n",
       "      <td>0</td>\n",
       "    </tr>\n",
       "  </tbody>\n",
       "</table>\n",
       "</div>"
      ],
      "text/plain": [
       "   RowNumber  CustomerId   Surname  CreditScore Geography  Gender  Age  \\\n",
       "0          1    15634602  Hargrave          619    France  Female   42   \n",
       "1          2    15647311      Hill          608     Spain  Female   41   \n",
       "2          3    15619304      Onio          502    France  Female   42   \n",
       "3          4    15701354      Boni          699    France  Female   39   \n",
       "4          5    15737888  Mitchell          850     Spain  Female   43   \n",
       "\n",
       "   Tenure    Balance  NumOfProducts  HasCrCard  IsActiveMember  \\\n",
       "0       2       0.00              1          1               1   \n",
       "1       1   83807.86              1          0               1   \n",
       "2       8  159660.80              3          1               0   \n",
       "3       1       0.00              2          0               0   \n",
       "4       2  125510.82              1          1               1   \n",
       "\n",
       "   EstimatedSalary  Exited  \n",
       "0        101348.88       1  \n",
       "1        112542.58       0  \n",
       "2        113931.57       1  \n",
       "3         93826.63       0  \n",
       "4         79084.10       0  "
      ]
     },
     "execution_count": 40,
     "metadata": {},
     "output_type": "execute_result"
    }
   ],
   "source": [
    "dataset = pd.read_csv('Churn_Modelling.csv')\n",
    "dataset.head()"
   ]
  },
  {
   "cell_type": "code",
   "execution_count": 41,
   "metadata": {},
   "outputs": [
    {
     "data": {
      "text/plain": [
       "array([[619, 'France', 'Female', ..., 1, 1, 101348.88],\n",
       "       [608, 'Spain', 'Female', ..., 0, 1, 112542.58],\n",
       "       [502, 'France', 'Female', ..., 1, 0, 113931.57],\n",
       "       ...,\n",
       "       [709, 'France', 'Female', ..., 0, 1, 42085.58],\n",
       "       [772, 'Germany', 'Male', ..., 1, 0, 92888.52],\n",
       "       [792, 'France', 'Female', ..., 1, 0, 38190.78]], dtype=object)"
      ]
     },
     "execution_count": 41,
     "metadata": {},
     "output_type": "execute_result"
    }
   ],
   "source": [
    "X = dataset.iloc[:,3:13].values # Taking only relavent inputs\n",
    "Y = dataset.iloc[:,13].values\n",
    "X"
   ]
  },
  {
   "cell_type": "code",
   "execution_count": 42,
   "metadata": {},
   "outputs": [
    {
     "data": {
      "text/plain": [
       "array([[0.0, 0.0, 0.0, 619, 42, 2, 0.0, 1, 1, 1, 101348.88]], dtype=object)"
      ]
     },
     "execution_count": 42,
     "metadata": {},
     "output_type": "execute_result"
    }
   ],
   "source": [
    "from sklearn.preprocessing import OneHotEncoder\n",
    "from sklearn.compose import ColumnTransformer\n",
    "#handling categorical data like geography and gender\n",
    "ct = ColumnTransformer([(\"Geography\", OneHotEncoder(),[1])], remainder=\"passthrough\") # The last arg ([0]) is the list of columns you want to transform in this step\n",
    "X = ct.fit_transform(X)\n",
    "X = X[:,1:]\n",
    "ct_2 = ColumnTransformer([(\"Gender\", OneHotEncoder(),[3])], remainder=\"passthrough\") # The last arg ([0]) is the list of columns you want to transform in this step\n",
    "X = ct_2.fit_transform(X)\n",
    "X = X[:,1:]\n",
    "X[0:1,:]"
   ]
  },
  {
   "cell_type": "code",
   "execution_count": null,
   "metadata": {},
   "outputs": [],
   "source": []
  },
  {
   "cell_type": "code",
   "execution_count": 43,
   "metadata": {},
   "outputs": [],
   "source": [
    "from sklearn.model_selection import train_test_split\n",
    "X_train, X_test, Y_train, Y_test = train_test_split(X,Y, test_size = 0.2, random_state = 0)\n",
    "from sklearn.preprocessing import StandardScaler\n",
    "sc_X = StandardScaler()\n",
    "X_train = sc_X.fit_transform(X_train)\n",
    "X_test = sc_X.transform(X_test)\n"
   ]
  },
  {
   "cell_type": "code",
   "execution_count": 44,
   "metadata": {
    "scrolled": false
   },
   "outputs": [],
   "source": [
    "import keras\n",
    "from keras.models import Sequential\n",
    "from keras.layers import Dense"
   ]
  },
  {
   "cell_type": "code",
   "execution_count": 45,
   "metadata": {},
   "outputs": [],
   "source": [
    "classifier = Sequential()"
   ]
  },
  {
   "cell_type": "code",
   "execution_count": 46,
   "metadata": {},
   "outputs": [
    {
     "name": "stderr",
     "output_type": "stream",
     "text": [
      "C:\\Users\\verma\\Anaconda3\\envs\\tensorflow\\lib\\site-packages\\ipykernel_launcher.py:6: UserWarning: Update your `Dense` call to the Keras 2 API: `Dense(activation=\"relu\", input_dim=11, units=6, kernel_initializer=\"uniform\")`\n",
      "  \n"
     ]
    }
   ],
   "source": [
    "#unit is number of nodes in hidden layer you choose it accroding to you or average of input and output dimension\n",
    "# kernal_initializer is assigning initial weights and uniform means uniform number close to zero\n",
    "#activation is activation function used in this hidden layer \n",
    "#input_dim is number of input or number of independent variable this is must argue for first hidden layer\n",
    "\n",
    "classifier.add(Dense(output_dim = 6, init = 'uniform', activation = 'relu', input_dim = 11))\n"
   ]
  },
  {
   "cell_type": "code",
   "execution_count": 47,
   "metadata": {},
   "outputs": [],
   "source": [
    "# 2nd hidden layer\n",
    "classifier.add(Dense(units = 6, kernel_initializer = 'uniform', activation = 'relu'))\n"
   ]
  },
  {
   "cell_type": "code",
   "execution_count": 48,
   "metadata": {},
   "outputs": [],
   "source": [
    "# ouput layer\n",
    "classifier.add(Dense(units = 1, kernel_initializer = 'uniform', activation = 'sigmoid'))\n"
   ]
  },
  {
   "cell_type": "code",
   "execution_count": 49,
   "metadata": {},
   "outputs": [],
   "source": [
    "#optimizer is algo you want to use for handling weights we using stochastic gradient\n",
    "classifier.compile(optimizer = 'adam', loss = 'binary_crossentropy', metrics = ['accuracy'])\n"
   ]
  },
  {
   "cell_type": "code",
   "execution_count": 50,
   "metadata": {
    "scrolled": false
   },
   "outputs": [
    {
     "name": "stdout",
     "output_type": "stream",
     "text": [
      "Epoch 1/70\n",
      "8000/8000 [==============================] - 13s 2ms/step - loss: 0.4877 - accuracy: 0.7960\n",
      "Epoch 2/70\n",
      "8000/8000 [==============================] - 3s 427us/step - loss: 0.4292 - accuracy: 0.7960\n",
      "Epoch 3/70\n",
      "8000/8000 [==============================] - 3s 432us/step - loss: 0.4233 - accuracy: 0.7960\n",
      "Epoch 4/70\n",
      "8000/8000 [==============================] - 3s 429us/step - loss: 0.4190 - accuracy: 0.8207\n",
      "Epoch 5/70\n",
      "8000/8000 [==============================] - 3s 432us/step - loss: 0.4164 - accuracy: 0.8256\n",
      "Epoch 6/70\n",
      "8000/8000 [==============================] - 3s 431us/step - loss: 0.4145 - accuracy: 0.8310\n",
      "Epoch 7/70\n",
      "8000/8000 [==============================] - 3s 432us/step - loss: 0.4127 - accuracy: 0.8330\n",
      "Epoch 8/70\n",
      "8000/8000 [==============================] - 3s 431us/step - loss: 0.4120 - accuracy: 0.8321\n",
      "Epoch 9/70\n",
      "8000/8000 [==============================] - 3s 434us/step - loss: 0.4106 - accuracy: 0.8316\n",
      "Epoch 10/70\n",
      "8000/8000 [==============================] - 4s 444us/step - loss: 0.4095 - accuracy: 0.8339\n",
      "Epoch 11/70\n",
      "8000/8000 [==============================] - 4s 448us/step - loss: 0.4093 - accuracy: 0.8332\n",
      "Epoch 12/70\n",
      "8000/8000 [==============================] - 3s 432us/step - loss: 0.4078 - accuracy: 0.8331\n",
      "Epoch 13/70\n",
      "8000/8000 [==============================] - 3s 431us/step - loss: 0.4081 - accuracy: 0.8340\n",
      "Epoch 14/70\n",
      "8000/8000 [==============================] - 3s 434us/step - loss: 0.4072 - accuracy: 0.8342\n",
      "Epoch 15/70\n",
      "8000/8000 [==============================] - 3s 437us/step - loss: 0.4063 - accuracy: 0.8334\n",
      "Epoch 16/70\n",
      "8000/8000 [==============================] - 3s 434us/step - loss: 0.4064 - accuracy: 0.8349\n",
      "Epoch 17/70\n",
      "8000/8000 [==============================] - 4s 438us/step - loss: 0.4059 - accuracy: 0.8341\n",
      "Epoch 18/70\n",
      "8000/8000 [==============================] - 3s 436us/step - loss: 0.4049 - accuracy: 0.8345\n",
      "Epoch 19/70\n",
      "8000/8000 [==============================] - 4s 438us/step - loss: 0.4052 - accuracy: 0.8349\n",
      "Epoch 20/70\n",
      "8000/8000 [==============================] - 3s 435us/step - loss: 0.4049 - accuracy: 0.8349\n",
      "Epoch 21/70\n",
      "8000/8000 [==============================] - 3s 437us/step - loss: 0.4045 - accuracy: 0.8330\n",
      "Epoch 22/70\n",
      "8000/8000 [==============================] - 3s 434us/step - loss: 0.4038 - accuracy: 0.8345\n",
      "Epoch 23/70\n",
      "8000/8000 [==============================] - 3s 436us/step - loss: 0.4040 - accuracy: 0.8346\n",
      "Epoch 24/70\n",
      "8000/8000 [==============================] - 3s 436us/step - loss: 0.4038 - accuracy: 0.8356\n",
      "Epoch 25/70\n",
      "8000/8000 [==============================] - 3s 434us/step - loss: 0.4030 - accuracy: 0.8354\n",
      "Epoch 26/70\n",
      "8000/8000 [==============================] - 4s 439us/step - loss: 0.4034 - accuracy: 0.8356\n",
      "Epoch 27/70\n",
      "8000/8000 [==============================] - 3s 435us/step - loss: 0.4025 - accuracy: 0.8341\n",
      "Epoch 28/70\n",
      "8000/8000 [==============================] - 3s 435us/step - loss: 0.4031 - accuracy: 0.8347\n",
      "Epoch 29/70\n",
      "8000/8000 [==============================] - 3s 437us/step - loss: 0.4028 - accuracy: 0.8341\n",
      "Epoch 30/70\n",
      "8000/8000 [==============================] - 4s 441us/step - loss: 0.4027 - accuracy: 0.8347\n",
      "Epoch 31/70\n",
      "8000/8000 [==============================] - 4s 438us/step - loss: 0.4023 - accuracy: 0.8351\n",
      "Epoch 32/70\n",
      "8000/8000 [==============================] - 3s 435us/step - loss: 0.4024 - accuracy: 0.8334\n",
      "Epoch 33/70\n",
      "8000/8000 [==============================] - 3s 436us/step - loss: 0.4024 - accuracy: 0.8345\n",
      "Epoch 34/70\n",
      "8000/8000 [==============================] - 4s 440us/step - loss: 0.4022 - accuracy: 0.8356\n",
      "Epoch 35/70\n",
      "8000/8000 [==============================] - 4s 440us/step - loss: 0.4022 - accuracy: 0.8344\n",
      "Epoch 36/70\n",
      "8000/8000 [==============================] - 4s 440us/step - loss: 0.4015 - accuracy: 0.8357\n",
      "Epoch 37/70\n",
      "8000/8000 [==============================] - 4s 441us/step - loss: 0.4018 - accuracy: 0.8355\n",
      "Epoch 38/70\n",
      "8000/8000 [==============================] - 4s 442us/step - loss: 0.4017 - accuracy: 0.8335\n",
      "Epoch 39/70\n",
      "8000/8000 [==============================] - 4s 441us/step - loss: 0.4016 - accuracy: 0.8345\n",
      "Epoch 40/70\n",
      "8000/8000 [==============================] - 4s 446us/step - loss: 0.4017 - accuracy: 0.8341\n",
      "Epoch 41/70\n",
      "8000/8000 [==============================] - 4s 447us/step - loss: 0.4011 - accuracy: 0.8346\n",
      "Epoch 42/70\n",
      "8000/8000 [==============================] - 4s 443us/step - loss: 0.4016 - accuracy: 0.8338\n",
      "Epoch 43/70\n",
      "8000/8000 [==============================] - 4s 453us/step - loss: 0.4013 - accuracy: 0.8341\n",
      "Epoch 44/70\n",
      "8000/8000 [==============================] - 4s 451us/step - loss: 0.4008 - accuracy: 0.8339\n",
      "Epoch 45/70\n",
      "8000/8000 [==============================] - 4s 449us/step - loss: 0.4009 - accuracy: 0.8346\n",
      "Epoch 46/70\n",
      "8000/8000 [==============================] - 4s 452us/step - loss: 0.4011 - accuracy: 0.8332\n",
      "Epoch 47/70\n",
      "8000/8000 [==============================] - 4s 451us/step - loss: 0.4010 - accuracy: 0.8365\n",
      "Epoch 48/70\n",
      "8000/8000 [==============================] - 4s 449us/step - loss: 0.4010 - accuracy: 0.8349\n",
      "Epoch 49/70\n",
      "8000/8000 [==============================] - 4s 446us/step - loss: 0.4015 - accuracy: 0.8335\n",
      "Epoch 50/70\n",
      "8000/8000 [==============================] - 4s 458us/step - loss: 0.4012 - accuracy: 0.8349\n",
      "Epoch 51/70\n",
      "8000/8000 [==============================] - 4s 456us/step - loss: 0.4009 - accuracy: 0.8354\n",
      "Epoch 52/70\n",
      "8000/8000 [==============================] - 4s 451us/step - loss: 0.4011 - accuracy: 0.8341\n",
      "Epoch 53/70\n",
      "8000/8000 [==============================] - 4s 446us/step - loss: 0.4010 - accuracy: 0.8350\n",
      "Epoch 54/70\n",
      "8000/8000 [==============================] - 4s 453us/step - loss: 0.4006 - accuracy: 0.8351\n",
      "Epoch 55/70\n",
      "8000/8000 [==============================] - 4s 454us/step - loss: 0.4011 - accuracy: 0.8347\n",
      "Epoch 56/70\n",
      "8000/8000 [==============================] - 4s 454us/step - loss: 0.4010 - accuracy: 0.8354\n",
      "Epoch 57/70\n",
      "8000/8000 [==============================] - 4s 453us/step - loss: 0.4010 - accuracy: 0.8346\n",
      "Epoch 58/70\n",
      "8000/8000 [==============================] - 4s 451us/step - loss: 0.4006 - accuracy: 0.8350\n",
      "Epoch 59/70\n",
      "8000/8000 [==============================] - 4s 450us/step - loss: 0.4012 - accuracy: 0.8338\n",
      "Epoch 60/70\n",
      "8000/8000 [==============================] - 4s 458us/step - loss: 0.4006 - accuracy: 0.8360\n",
      "Epoch 61/70\n",
      "8000/8000 [==============================] - 4s 455us/step - loss: 0.4008 - accuracy: 0.8354\n",
      "Epoch 62/70\n",
      "8000/8000 [==============================] - 4s 459us/step - loss: 0.4007 - accuracy: 0.8350\n",
      "Epoch 63/70\n",
      "8000/8000 [==============================] - 4s 455us/step - loss: 0.4007 - accuracy: 0.8350\n",
      "Epoch 64/70\n",
      "8000/8000 [==============================] - 4s 447us/step - loss: 0.4007 - accuracy: 0.8369\n",
      "Epoch 65/70\n",
      "8000/8000 [==============================] - 4s 456us/step - loss: 0.4004 - accuracy: 0.8339\n",
      "Epoch 66/70\n",
      "8000/8000 [==============================] - 4s 452us/step - loss: 0.4006 - accuracy: 0.8349\n",
      "Epoch 67/70\n",
      "8000/8000 [==============================] - 4s 463us/step - loss: 0.4008 - accuracy: 0.8342\n",
      "Epoch 68/70\n",
      "8000/8000 [==============================] - 4s 454us/step - loss: 0.4004 - accuracy: 0.8342\n",
      "Epoch 69/70\n",
      "8000/8000 [==============================] - 4s 456us/step - loss: 0.4009 - accuracy: 0.8355\n",
      "Epoch 70/70\n",
      "8000/8000 [==============================] - 4s 457us/step - loss: 0.4004 - accuracy: 0.8357\n"
     ]
    },
    {
     "data": {
      "text/plain": [
       "<keras.callbacks.callbacks.History at 0x17f02518e08>"
      ]
     },
     "execution_count": 50,
     "metadata": {},
     "output_type": "execute_result"
    }
   ],
   "source": [
    "classifier.fit(X_train, Y_train, batch_size = 10, epochs = 70)\n"
   ]
  },
  {
   "cell_type": "code",
   "execution_count": 51,
   "metadata": {},
   "outputs": [
    {
     "data": {
      "text/plain": [
       "array([[1550,   45],\n",
       "       [ 277,  128]], dtype=int64)"
      ]
     },
     "execution_count": 51,
     "metadata": {},
     "output_type": "execute_result"
    }
   ],
   "source": [
    "y_pred = classifier.predict(X_test) # This will give probabilities in y_pred\n",
    "y_pred = (y_pred > 0.5) # This is will conver these prob in true and false so we can compare\n",
    "\n",
    "# Making the Confusion Matrix\n",
    "from sklearn.metrics import confusion_matrix\n",
    "cm = confusion_matrix(Y_test, y_pred)\n",
    "cm"
   ]
  },
  {
   "cell_type": "code",
   "execution_count": null,
   "metadata": {},
   "outputs": [],
   "source": []
  }
 ],
 "metadata": {
  "kernelspec": {
   "display_name": "Python 3.7 (tensorflow)",
   "language": "python",
   "name": "tensorflow"
  },
  "language_info": {
   "codemirror_mode": {
    "name": "ipython",
    "version": 3
   },
   "file_extension": ".py",
   "mimetype": "text/x-python",
   "name": "python",
   "nbconvert_exporter": "python",
   "pygments_lexer": "ipython3",
   "version": "3.7.7"
  }
 },
 "nbformat": 4,
 "nbformat_minor": 2
}
